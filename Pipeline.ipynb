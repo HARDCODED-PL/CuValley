{
 "cells": [
  {
   "cell_type": "code",
   "execution_count": 1,
   "id": "bdc0a073",
   "metadata": {},
   "outputs": [],
   "source": [
    "import numpy as np\n",
    "import cv2\n",
    "from glob import glob\n",
    "import pandas as pd\n",
    "import matplotlib.pyplot as plt"
   ]
  },
  {
   "cell_type": "markdown",
   "id": "c51f9fc3",
   "metadata": {},
   "source": [
    "# Parsuj dane i podziel na zbiór treningowy i testowy"
   ]
  },
  {
   "cell_type": "code",
   "execution_count": 2,
   "id": "ea1b059f",
   "metadata": {},
   "outputs": [],
   "source": [
    "process_data = False\n",
    "\n",
    "main_keys = [('2021-05-08', 'train'), ('2021-05-27', 'test')]\n",
    "\n",
    "keys = ['manipulowane', 'straty', 'zaklocajace', 'zaklocane']\n",
    "data = pd.read_excel('./data/zmienne.xlsx', names=['a', 'b', 'c']).drop(columns=['a'])\n",
    "mappsy = {'001NIR0SZR0.daca.pv': 'Straty łącznie'}\n",
    "for ind, row in data.iterrows():\n",
    "    mappsy[row.c] = row.b\n",
    "\n",
    "if process_data:\n",
    "    for dataset, tset in main_keys:\n",
    "        for k in keys:\n",
    "            data = sorted(glob(f'data/dane/{dataset}/{k}*'))\n",
    "            df_list = []\n",
    "            for d in data:\n",
    "                df = pd.read_csv(d)\n",
    "                df_list.append(df)\n",
    "            merged_df = pd.concat(df_list)\n",
    "            merged_df.to_csv(f'data/{tset}_{k}.csv')\n",
    "\n",
    "        df_manipulowane = pd.read_csv(f'data/{tset}_manipulowane.csv', index_col='Czas', parse_dates=True)\n",
    "        df_manipulowane = df_manipulowane.drop(columns=['Unnamed: 0', 'Unnamed: 5'])\n",
    "        # df_manipulowane.columns = ['mani_' + k for k in df_manipulowane.columns]\n",
    "\n",
    "        df_straty = pd.read_csv(f'data/{tset}_straty.csv', index_col='czas', parse_dates=True)\n",
    "        df_straty = df_straty.drop(columns=['Unnamed: 0'])\n",
    "        # df_straty.columns = ['straty_' + k for k in df_straty.columns]\n",
    "\n",
    "        df_zaklocajace = pd.read_csv(f'data/{tset}_zaklocajace.csv', index_col='Czas', parse_dates=True)\n",
    "        df_zaklocajace = df_zaklocajace.drop(columns=['Unnamed: 0'])\n",
    "        # df_zaklocajace.columns = ['zaklucaj_' + k for k in df_zaklocajace.columns]\n",
    "\n",
    "        df_zaklocane = pd.read_csv(f'data/{tset}_zaklocane.csv', index_col='Czas', parse_dates=True)\n",
    "        df_zaklocane = df_zaklocane.drop(columns=['Unnamed: 0', 'Unnamed: 5'])\n",
    "        # df_zaklocane.columns = ['zaklucan_' + k for k in df_zaklocane.columns]\n",
    "\n",
    "        m = pd.merge(df_manipulowane, df_straty, left_index=True, right_index=True)\n",
    "        m = pd.merge(m, df_zaklocajace, left_index=True, right_index=True)\n",
    "        m = pd.merge(m, df_zaklocane, left_index=True, right_index=True)\n",
    "\n",
    "        m.columns = m.columns.map(mappsy)\n",
    "\n",
    "        m.to_hdf(f'data/{tset}_merged.hdf', 'kej')\n",
    "\n",
    "df_train = pd.read_hdf(f'data/train_merged.hdf')\n",
    "df_test = pd.read_hdf(f'data/test_merged.hdf')"
   ]
  },
  {
   "cell_type": "code",
   "execution_count": 3,
   "id": "abb3ed4c",
   "metadata": {},
   "outputs": [],
   "source": [
    "straty_columns = df_train.columns[[4,5,6,7,8,9]]\n",
    "zadane_columns = df_train.columns[[0,1,2,3]]\n",
    "zaklucane_columns = df_train.columns[10:]"
   ]
  },
  {
   "cell_type": "markdown",
   "id": "1689dce8",
   "metadata": {},
   "source": [
    "# Trenowanie modelu świata"
   ]
  },
  {
   "cell_type": "code",
   "execution_count": 4,
   "id": "373b1d66",
   "metadata": {},
   "outputs": [],
   "source": [
    "X_train = df_train.drop(columns=straty_columns)\n",
    "y_train = df_train[straty_columns]\n",
    "\n",
    "X_test = df_test.drop(columns=straty_columns)\n",
    "y_test = df_test[straty_columns]"
   ]
  },
  {
   "cell_type": "code",
   "execution_count": 5,
   "id": "7a76b311",
   "metadata": {},
   "outputs": [
    {
     "name": "stdout",
     "output_type": "stream",
     "text": [
      "Train:  0.9541211486219704\n",
      "Test:  -0.03679137153041164\n"
     ]
    }
   ],
   "source": [
    "from lightgbm import LGBMRegressor\n",
    "from sklearn.multioutput import MultiOutputRegressor\n",
    "import joblib\n",
    "\n",
    "train_world = False\n",
    "\n",
    "if train_world:\n",
    "    world = MultiOutputRegressor(LGBMRegressor())\n",
    "    world.fit(X_train.values[::10][:-1], y_train.values[::10][1:])\n",
    "    \n",
    "    joblib.dump(world, 'world.pkl')\n",
    "    \n",
    "world = joblib.load('world.pkl')\n",
    "\n",
    "print('Train: ',world.score(X_train.values[::10][:-1], y_train.values[::10][1:]))\n",
    "print('Test: ', world.score(X_test.values[::10][:-1], y_test.values[::10][1:]))"
   ]
  },
  {
   "cell_type": "markdown",
   "id": "f4aa1a6b",
   "metadata": {},
   "source": [
    "# Regulator z ograniczeniami"
   ]
  },
  {
   "cell_type": "code",
   "execution_count": 6,
   "id": "aa34fcca",
   "metadata": {},
   "outputs": [
    {
     "data": {
      "text/plain": [
       "(2700, 65, 40, 27)"
      ]
     },
     "execution_count": 6,
     "metadata": {},
     "output_type": "execute_result"
    }
   ],
   "source": [
    "class Regulator:\n",
    "    def __init__(self):\n",
    "        # przepływ powietrza\n",
    "        self.air_max_regulation = (1900, 3500)\n",
    "        self.air_max_step = 800 # \n",
    "        self.air_min_time = 10 # sec\n",
    "    \n",
    "        # zawartość tlenu\n",
    "        self.oxy_max_regulation = (65, 81)\n",
    "        self.oxy_max_step = 2\n",
    "        self.oxy_min_time = 150\n",
    "        \n",
    "        # dmuch\n",
    "        self.puff_max_regulation = (40, 70)\n",
    "        self.puff_max_step = 10\n",
    "        self.puff_min_time = 5\n",
    "        \n",
    "        #pyły\n",
    "        self.dust_max_regulation = (13, 27)\n",
    "        self.dust_max_step = 13\n",
    "        self.dust_min_time = 5*60\n",
    "    \n",
    "    def __call__(self, prev, new):\n",
    "        prev_air, prev_oxy, prev_puff, prev_dust = prev\n",
    "        new_air, new_oxy, new_puff, new_dust = new\n",
    "        \n",
    "        dest_air = prev_air\n",
    "        dest_oxy = prev_oxy\n",
    "        dest_puff = prev_puff\n",
    "        dest_dust = prev_dust\n",
    "        \n",
    "        dest_air += np.min([np.abs(new_air), self.air_max_step]) * np.sign(new_air)\n",
    "        dest_oxy += np.min([np.abs(new_oxy), self.oxy_max_step]) * np.sign(new_oxy)\n",
    "        dest_puff += np.min([np.abs(new_puff), self.puff_min_time]) * np.sign(new_puff) \n",
    "        dest_dust += np.min([np.abs(new_dust), self.dust_min_time]) * np.sign(new_dust) \n",
    "        \n",
    "        dest_air = np.clip(dest_air, *self.air_max_regulation)\n",
    "        dest_oxy = np.clip(dest_oxy, *self.oxy_max_regulation)\n",
    "        dest_puff = np.clip(dest_puff, *self.puff_max_regulation)\n",
    "        dest_dust = np.clip(dest_dust, *self.dust_max_regulation)\n",
    "        \n",
    "        return dest_air, dest_oxy, dest_puff, dest_dust\n",
    "\n",
    "reg = Regulator()\n",
    "reg([1900,0,0, 23], [900,0,0,13])"
   ]
  },
  {
   "cell_type": "markdown",
   "id": "ead0cf59",
   "metadata": {},
   "source": [
    "# Samooptymalizujący się model"
   ]
  },
  {
   "cell_type": "code",
   "execution_count": 63,
   "id": "09917d3e",
   "metadata": {},
   "outputs": [],
   "source": [
    "import math\n",
    "import random\n",
    "import numpy as np\n",
    "import matplotlib\n",
    "import matplotlib.pyplot as plt\n",
    "from collections import namedtuple, deque\n",
    "from itertools import count\n",
    "from PIL import Image\n",
    "from tqdm import trange\n",
    "\n",
    "import torch\n",
    "import torch.nn as nn\n",
    "import torch.optim as optim\n",
    "import torch.nn.functional as F"
   ]
  },
  {
   "cell_type": "code",
   "execution_count": 70,
   "id": "a3ca5b24",
   "metadata": {},
   "outputs": [],
   "source": [
    "# class DQN(nn.Module):\n",
    "\n",
    "#     def __init__(self):\n",
    "#         super(DQN, self).__init__()\n",
    "#         self.head = nn.Linear(22, 4)\n",
    "\n",
    "#     def forward(self, x):\n",
    "#         x = torch.tensor(x, dtype=torch.float32)\n",
    "#         return self.head(x)\n",
    "# network = DQN()\n",
    "\n",
    "network = torch.nn.Sequential(\n",
    "    nn.Linear(22, 4)\n",
    ")"
   ]
  },
  {
   "cell_type": "code",
   "execution_count": 71,
   "id": "3160d52f",
   "metadata": {},
   "outputs": [],
   "source": [
    "optimizer = optim.RMSprop(network.parameters())\n",
    "\n",
    "# TODO\n",
    "criterion = nn.SmoothL1Loss()\n",
    "# TODO"
   ]
  },
  {
   "cell_type": "code",
   "execution_count": 72,
   "id": "3443ece8",
   "metadata": {},
   "outputs": [],
   "source": [
    "straty_columns = df_train.columns[[4,5,6,7,8,9]]\n",
    "zadane_columns = df_train.columns[[0,1,2,3]]\n",
    "zaklucane_columns = df_train.columns[10:]"
   ]
  },
  {
   "cell_type": "code",
   "execution_count": 78,
   "id": "2f944e9a",
   "metadata": {},
   "outputs": [
    {
     "name": "stderr",
     "output_type": "stream",
     "text": [
      "1/400 - Loss: 0.12714003552980827: 100%|██████████| 1000/1000 [00:12<00:00, 81.14it/s]\n",
      "2/400 - Loss: 0.1367276575654923: 100%|██████████| 1000/1000 [00:11<00:00, 86.57it/s]\n",
      "3/400 - Loss: 0.1307675565763089: 100%|██████████| 1000/1000 [00:12<00:00, 82.38it/s]\n",
      "4/400 - Loss: 0.12739864967608464:  16%|█▌        | 156/1000 [00:01<00:10, 80.72it/s]\n"
     ]
    },
    {
     "ename": "KeyboardInterrupt",
     "evalue": "",
     "output_type": "error",
     "traceback": [
      "\u001b[0;31m---------------------------------------------------------------------------\u001b[0m",
      "\u001b[0;31mKeyboardInterrupt\u001b[0m                         Traceback (most recent call last)",
      "\u001b[0;32m<ipython-input-78-9daff0385829>\u001b[0m in \u001b[0;36m<module>\u001b[0;34m\u001b[0m\n\u001b[1;32m     10\u001b[0m     \u001b[0;32mfor\u001b[0m \u001b[0mi\u001b[0m \u001b[0;32min\u001b[0m \u001b[0mt\u001b[0m\u001b[0;34m:\u001b[0m\u001b[0;34m\u001b[0m\u001b[0;34m\u001b[0m\u001b[0m\n\u001b[1;32m     11\u001b[0m \u001b[0;34m\u001b[0m\u001b[0m\n\u001b[0;32m---> 12\u001b[0;31m         \u001b[0mwithout_zadane\u001b[0m \u001b[0;34m=\u001b[0m \u001b[0mstate\u001b[0m\u001b[0;34m.\u001b[0m\u001b[0mdrop\u001b[0m\u001b[0;34m(\u001b[0m\u001b[0mcolumns\u001b[0m\u001b[0;34m=\u001b[0m\u001b[0mzadane_columns\u001b[0m\u001b[0;34m)\u001b[0m\u001b[0;34m\u001b[0m\u001b[0;34m\u001b[0m\u001b[0m\n\u001b[0m\u001b[1;32m     13\u001b[0m         \u001b[0msame_zadane\u001b[0m \u001b[0;34m=\u001b[0m \u001b[0mstate\u001b[0m\u001b[0;34m[\u001b[0m\u001b[0mzadane_columns\u001b[0m\u001b[0;34m]\u001b[0m\u001b[0;34m\u001b[0m\u001b[0;34m\u001b[0m\u001b[0m\n\u001b[1;32m     14\u001b[0m \u001b[0;34m\u001b[0m\u001b[0m\n",
      "\u001b[0;32m~/Software/miniconda3/envs/ptyolo/lib/python3.8/site-packages/pandas/core/frame.py\u001b[0m in \u001b[0;36mdrop\u001b[0;34m(self, labels, axis, index, columns, level, inplace, errors)\u001b[0m\n\u001b[1;32m   4306\u001b[0m                 \u001b[0mweight\u001b[0m  \u001b[0;36m1.0\u001b[0m     \u001b[0;36m0.8\u001b[0m\u001b[0;34m\u001b[0m\u001b[0;34m\u001b[0m\u001b[0m\n\u001b[1;32m   4307\u001b[0m         \"\"\"\n\u001b[0;32m-> 4308\u001b[0;31m         return super().drop(\n\u001b[0m\u001b[1;32m   4309\u001b[0m             \u001b[0mlabels\u001b[0m\u001b[0;34m=\u001b[0m\u001b[0mlabels\u001b[0m\u001b[0;34m,\u001b[0m\u001b[0;34m\u001b[0m\u001b[0;34m\u001b[0m\u001b[0m\n\u001b[1;32m   4310\u001b[0m             \u001b[0maxis\u001b[0m\u001b[0;34m=\u001b[0m\u001b[0maxis\u001b[0m\u001b[0;34m,\u001b[0m\u001b[0;34m\u001b[0m\u001b[0;34m\u001b[0m\u001b[0m\n",
      "\u001b[0;32m~/Software/miniconda3/envs/ptyolo/lib/python3.8/site-packages/pandas/core/generic.py\u001b[0m in \u001b[0;36mdrop\u001b[0;34m(self, labels, axis, index, columns, level, inplace, errors)\u001b[0m\n\u001b[1;32m   4151\u001b[0m         \u001b[0;32mfor\u001b[0m \u001b[0maxis\u001b[0m\u001b[0;34m,\u001b[0m \u001b[0mlabels\u001b[0m \u001b[0;32min\u001b[0m \u001b[0maxes\u001b[0m\u001b[0;34m.\u001b[0m\u001b[0mitems\u001b[0m\u001b[0;34m(\u001b[0m\u001b[0;34m)\u001b[0m\u001b[0;34m:\u001b[0m\u001b[0;34m\u001b[0m\u001b[0;34m\u001b[0m\u001b[0m\n\u001b[1;32m   4152\u001b[0m             \u001b[0;32mif\u001b[0m \u001b[0mlabels\u001b[0m \u001b[0;32mis\u001b[0m \u001b[0;32mnot\u001b[0m \u001b[0;32mNone\u001b[0m\u001b[0;34m:\u001b[0m\u001b[0;34m\u001b[0m\u001b[0;34m\u001b[0m\u001b[0m\n\u001b[0;32m-> 4153\u001b[0;31m                 \u001b[0mobj\u001b[0m \u001b[0;34m=\u001b[0m \u001b[0mobj\u001b[0m\u001b[0;34m.\u001b[0m\u001b[0m_drop_axis\u001b[0m\u001b[0;34m(\u001b[0m\u001b[0mlabels\u001b[0m\u001b[0;34m,\u001b[0m \u001b[0maxis\u001b[0m\u001b[0;34m,\u001b[0m \u001b[0mlevel\u001b[0m\u001b[0;34m=\u001b[0m\u001b[0mlevel\u001b[0m\u001b[0;34m,\u001b[0m \u001b[0merrors\u001b[0m\u001b[0;34m=\u001b[0m\u001b[0merrors\u001b[0m\u001b[0;34m)\u001b[0m\u001b[0;34m\u001b[0m\u001b[0;34m\u001b[0m\u001b[0m\n\u001b[0m\u001b[1;32m   4154\u001b[0m \u001b[0;34m\u001b[0m\u001b[0m\n\u001b[1;32m   4155\u001b[0m         \u001b[0;32mif\u001b[0m \u001b[0minplace\u001b[0m\u001b[0;34m:\u001b[0m\u001b[0;34m\u001b[0m\u001b[0;34m\u001b[0m\u001b[0m\n",
      "\u001b[0;32m~/Software/miniconda3/envs/ptyolo/lib/python3.8/site-packages/pandas/core/generic.py\u001b[0m in \u001b[0;36m_drop_axis\u001b[0;34m(self, labels, axis, level, errors)\u001b[0m\n\u001b[1;32m   4186\u001b[0m                 \u001b[0mnew_axis\u001b[0m \u001b[0;34m=\u001b[0m \u001b[0maxis\u001b[0m\u001b[0;34m.\u001b[0m\u001b[0mdrop\u001b[0m\u001b[0;34m(\u001b[0m\u001b[0mlabels\u001b[0m\u001b[0;34m,\u001b[0m \u001b[0mlevel\u001b[0m\u001b[0;34m=\u001b[0m\u001b[0mlevel\u001b[0m\u001b[0;34m,\u001b[0m \u001b[0merrors\u001b[0m\u001b[0;34m=\u001b[0m\u001b[0merrors\u001b[0m\u001b[0;34m)\u001b[0m\u001b[0;34m\u001b[0m\u001b[0;34m\u001b[0m\u001b[0m\n\u001b[1;32m   4187\u001b[0m             \u001b[0;32melse\u001b[0m\u001b[0;34m:\u001b[0m\u001b[0;34m\u001b[0m\u001b[0;34m\u001b[0m\u001b[0m\n\u001b[0;32m-> 4188\u001b[0;31m                 \u001b[0mnew_axis\u001b[0m \u001b[0;34m=\u001b[0m \u001b[0maxis\u001b[0m\u001b[0;34m.\u001b[0m\u001b[0mdrop\u001b[0m\u001b[0;34m(\u001b[0m\u001b[0mlabels\u001b[0m\u001b[0;34m,\u001b[0m \u001b[0merrors\u001b[0m\u001b[0;34m=\u001b[0m\u001b[0merrors\u001b[0m\u001b[0;34m)\u001b[0m\u001b[0;34m\u001b[0m\u001b[0;34m\u001b[0m\u001b[0m\n\u001b[0m\u001b[1;32m   4189\u001b[0m             \u001b[0mresult\u001b[0m \u001b[0;34m=\u001b[0m \u001b[0mself\u001b[0m\u001b[0;34m.\u001b[0m\u001b[0mreindex\u001b[0m\u001b[0;34m(\u001b[0m\u001b[0;34m**\u001b[0m\u001b[0;34m{\u001b[0m\u001b[0maxis_name\u001b[0m\u001b[0;34m:\u001b[0m \u001b[0mnew_axis\u001b[0m\u001b[0;34m}\u001b[0m\u001b[0;34m)\u001b[0m\u001b[0;34m\u001b[0m\u001b[0;34m\u001b[0m\u001b[0m\n\u001b[1;32m   4190\u001b[0m \u001b[0;34m\u001b[0m\u001b[0m\n",
      "\u001b[0;32m~/Software/miniconda3/envs/ptyolo/lib/python3.8/site-packages/pandas/core/indexes/base.py\u001b[0m in \u001b[0;36mdrop\u001b[0;34m(self, labels, errors)\u001b[0m\n\u001b[1;32m   5587\u001b[0m         \u001b[0mindexer\u001b[0m \u001b[0;34m=\u001b[0m \u001b[0mself\u001b[0m\u001b[0;34m.\u001b[0m\u001b[0mget_indexer_for\u001b[0m\u001b[0;34m(\u001b[0m\u001b[0mlabels\u001b[0m\u001b[0;34m)\u001b[0m\u001b[0;34m\u001b[0m\u001b[0;34m\u001b[0m\u001b[0m\n\u001b[1;32m   5588\u001b[0m         \u001b[0mmask\u001b[0m \u001b[0;34m=\u001b[0m \u001b[0mindexer\u001b[0m \u001b[0;34m==\u001b[0m \u001b[0;34m-\u001b[0m\u001b[0;36m1\u001b[0m\u001b[0;34m\u001b[0m\u001b[0;34m\u001b[0m\u001b[0m\n\u001b[0;32m-> 5589\u001b[0;31m         \u001b[0;32mif\u001b[0m \u001b[0mmask\u001b[0m\u001b[0;34m.\u001b[0m\u001b[0many\u001b[0m\u001b[0;34m(\u001b[0m\u001b[0;34m)\u001b[0m\u001b[0;34m:\u001b[0m\u001b[0;34m\u001b[0m\u001b[0;34m\u001b[0m\u001b[0m\n\u001b[0m\u001b[1;32m   5590\u001b[0m             \u001b[0;32mif\u001b[0m \u001b[0merrors\u001b[0m \u001b[0;34m!=\u001b[0m \u001b[0;34m\"ignore\"\u001b[0m\u001b[0;34m:\u001b[0m\u001b[0;34m\u001b[0m\u001b[0;34m\u001b[0m\u001b[0m\n\u001b[1;32m   5591\u001b[0m                 \u001b[0;32mraise\u001b[0m \u001b[0mKeyError\u001b[0m\u001b[0;34m(\u001b[0m\u001b[0;34mf\"{labels[mask]} not found in axis\"\u001b[0m\u001b[0;34m)\u001b[0m\u001b[0;34m\u001b[0m\u001b[0;34m\u001b[0m\u001b[0m\n",
      "\u001b[0;32m~/Software/miniconda3/envs/ptyolo/lib/python3.8/site-packages/numpy/core/_methods.py\u001b[0m in \u001b[0;36m_any\u001b[0;34m(a, axis, dtype, out, keepdims)\u001b[0m\n\u001b[1;32m     52\u001b[0m \u001b[0;34m\u001b[0m\u001b[0m\n\u001b[1;32m     53\u001b[0m \u001b[0;32mdef\u001b[0m \u001b[0m_any\u001b[0m\u001b[0;34m(\u001b[0m\u001b[0ma\u001b[0m\u001b[0;34m,\u001b[0m \u001b[0maxis\u001b[0m\u001b[0;34m=\u001b[0m\u001b[0;32mNone\u001b[0m\u001b[0;34m,\u001b[0m \u001b[0mdtype\u001b[0m\u001b[0;34m=\u001b[0m\u001b[0;32mNone\u001b[0m\u001b[0;34m,\u001b[0m \u001b[0mout\u001b[0m\u001b[0;34m=\u001b[0m\u001b[0;32mNone\u001b[0m\u001b[0;34m,\u001b[0m \u001b[0mkeepdims\u001b[0m\u001b[0;34m=\u001b[0m\u001b[0;32mFalse\u001b[0m\u001b[0;34m)\u001b[0m\u001b[0;34m:\u001b[0m\u001b[0;34m\u001b[0m\u001b[0;34m\u001b[0m\u001b[0m\n\u001b[0;32m---> 54\u001b[0;31m     \u001b[0;32mreturn\u001b[0m \u001b[0mumr_any\u001b[0m\u001b[0;34m(\u001b[0m\u001b[0ma\u001b[0m\u001b[0;34m,\u001b[0m \u001b[0maxis\u001b[0m\u001b[0;34m,\u001b[0m \u001b[0mdtype\u001b[0m\u001b[0;34m,\u001b[0m \u001b[0mout\u001b[0m\u001b[0;34m,\u001b[0m \u001b[0mkeepdims\u001b[0m\u001b[0;34m)\u001b[0m\u001b[0;34m\u001b[0m\u001b[0;34m\u001b[0m\u001b[0m\n\u001b[0m\u001b[1;32m     55\u001b[0m \u001b[0;34m\u001b[0m\u001b[0m\n\u001b[1;32m     56\u001b[0m \u001b[0;32mdef\u001b[0m \u001b[0m_all\u001b[0m\u001b[0;34m(\u001b[0m\u001b[0ma\u001b[0m\u001b[0;34m,\u001b[0m \u001b[0maxis\u001b[0m\u001b[0;34m=\u001b[0m\u001b[0;32mNone\u001b[0m\u001b[0;34m,\u001b[0m \u001b[0mdtype\u001b[0m\u001b[0;34m=\u001b[0m\u001b[0;32mNone\u001b[0m\u001b[0;34m,\u001b[0m \u001b[0mout\u001b[0m\u001b[0;34m=\u001b[0m\u001b[0;32mNone\u001b[0m\u001b[0;34m,\u001b[0m \u001b[0mkeepdims\u001b[0m\u001b[0;34m=\u001b[0m\u001b[0;32mFalse\u001b[0m\u001b[0;34m)\u001b[0m\u001b[0;34m:\u001b[0m\u001b[0;34m\u001b[0m\u001b[0;34m\u001b[0m\u001b[0m\n",
      "\u001b[0;31mKeyboardInterrupt\u001b[0m: "
     ]
    }
   ],
   "source": [
    "steps = 1000\n",
    "epochs = 400\n",
    "\n",
    "state = df_train.iloc[0:1].copy()\n",
    "\n",
    "for e in range(epochs):\n",
    "    t = trange(steps, desc=f'{e+1}/{epochs} - Loss: ', leave=True)\n",
    "    losses = []\n",
    "    \n",
    "    for i in t:\n",
    "\n",
    "        without_zadane = state.drop(columns=zadane_columns)\n",
    "        same_zadane = state[zadane_columns]\n",
    "\n",
    "        mani_out = network(torch.tensor(without_zadane.values, dtype=torch.float32))\n",
    "\n",
    "        mani_out_cpu = mani_out.detach().clone().numpy()\n",
    "        mani_out_cpu = reg(same_zadane.values[0], mani_out_cpu[0])\n",
    "        mani_out_cpu = pd.DataFrame([mani_out_cpu], columns=zadane_columns)\n",
    "\n",
    "        new_state = state.copy()\n",
    "        new_state[zadane_columns] = mani_out_cpu\n",
    "\n",
    "        new_straty = world.predict(new_state.drop(columns=straty_columns))\n",
    "        new_straty = pd.DataFrame(new_straty, columns=straty_columns)\n",
    "        \n",
    "        # TODO\n",
    "        loss = criterion(torch.from_numpy(new_state[straty_columns].values), torch.from_numpy(new_straty.values))\n",
    "        # TODO\n",
    "        \n",
    "        losses.append(loss.numpy())\n",
    "        \n",
    "        t.set_description(f'{e+1}/{epochs} - Loss: {np.mean(losses)}')\n",
    "        t.refresh() # to show immediately the update\n",
    "\n",
    "        optimizer.zero_grad()\n",
    "        \n",
    "        # TODO\n",
    "    #     loss.backward()\n",
    "    #     optimizer.step()\n",
    "        # TODO\n",
    "\n",
    "        k = np.random.choice(np.arange(df_train.shape[0]))\n",
    "        state = df_train.iloc[k:k+1].copy()"
   ]
  }
 ],
 "metadata": {
  "kernelspec": {
   "display_name": "Python 3",
   "language": "python",
   "name": "python3"
  },
  "language_info": {
   "codemirror_mode": {
    "name": "ipython",
    "version": 3
   },
   "file_extension": ".py",
   "mimetype": "text/x-python",
   "name": "python",
   "nbconvert_exporter": "python",
   "pygments_lexer": "ipython3",
   "version": "3.8.8"
  }
 },
 "nbformat": 4,
 "nbformat_minor": 5
}
